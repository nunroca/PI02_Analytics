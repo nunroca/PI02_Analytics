{
 "cells": [
  {
   "cell_type": "code",
   "execution_count": 64,
   "metadata": {},
   "outputs": [],
   "source": [
    "import pandas as pd\n",
    "import numpy as np\n",
    "import matplotlib.pyplot as plt\n",
    "import seaborn as sns"
   ]
  },
  {
   "attachments": {},
   "cell_type": "markdown",
   "metadata": {},
   "source": [
    "# EDA"
   ]
  },
  {
   "attachments": {},
   "cell_type": "markdown",
   "metadata": {},
   "source": [
    "##  1. Datasets de nivel Provincial"
   ]
  },
  {
   "cell_type": "code",
   "execution_count": 67,
   "metadata": {},
   "outputs": [],
   "source": [
    "df1p=pd.read_csv(\"./DATA/1_Penetracion_Internet_Prov.csv\",delimiter=',', quotechar='\"', decimal=\",\", thousands=\".\")\n",
    "df2p=pd.read_csv(\"./DATA/2_Acceso_Banda_Prov.csv\",delimiter=',', quotechar='\"', decimal=\",\", thousands=\".\")\n",
    "df3p=pd.read_csv(\"./DATA/3_Acceso_IF_Tec_Prov.csv\",delimiter=',', quotechar='\"', decimal=\",\", thousands=\".\")\n",
    "df4p=pd.read_csv(\"./DATA/4_VelocidadMB_IF_Prov.csv\",delimiter=',', quotechar='\"', decimal=\",\", thousands=\".\")\n",
    "df5p=pd.read_csv(\"./DATA/5_Acceso_RangVel_Prov.csv\",delimiter=',', quotechar='\"', decimal=\",\", thousands=\".\")"
   ]
  },
  {
   "attachments": {},
   "cell_type": "markdown",
   "metadata": {},
   "source": [
    "### 1.1 EDA-DF1P"
   ]
  },
  {
   "attachments": {},
   "cell_type": "markdown",
   "metadata": {},
   "source": [
    "#### 1.1.1 VALORES UNICOS"
   ]
  },
  {
   "cell_type": "code",
   "execution_count": 68,
   "metadata": {},
   "outputs": [
    {
     "name": "stdout",
     "output_type": "stream",
     "text": [
      "['Año', 'Trimestre', 'Provincia', 'Accesos por cada 100 hogares']\n",
      "[2022, 2021, 2020, 2019, 2018, 2017, 2016, 2015, 2014]\n",
      "[3, 2, 1, 4]\n",
      "['Buenos Aires', 'Capital Federal', 'Catamarca', 'Chaco', 'Chubut', 'Córdoba', 'Corrientes', 'Entre Ríos', 'Formosa', 'Jujuy', 'La Pampa', 'La Rioja', 'Mendoza', 'Misiones', 'Neuquén', 'Río Negro', 'Salta', 'San Juan', 'San Luis', 'Santa Cruz', 'Santa Fe', 'Santiago Del Estero', 'Tierra Del Fuego', 'Tucumán']\n",
      "['Año', 'Trimestre', 'Provincia', 'Banda ancha fija', 'Dial up', 'Total']\n",
      "[2022, 2021, 2020, 2019, 2018, 2017, 2016, 2015, 2014]\n",
      "[3, 2, 1, 4]\n",
      "['Buenos Aires', 'Capital Federal', 'Catamarca', 'Chaco', 'Chubut', 'Córdoba', 'Corrientes', 'Entre Ríos', 'Formosa', 'Jujuy', 'La Pampa', 'La Rioja', 'Mendoza', 'Misiones', 'Neuquén', 'Río Negro', 'Salta', 'San Juan', 'San Luis', 'Santa Cruz', 'Santa Fe', 'Santiago Del Estero', 'Tierra Del Fuego', 'Tucumán']\n",
      "['Año', 'Trimestre', 'Provincia', 'ADSL', 'Cablemodem', 'Fibra óptica', 'Wireless', 'Otros', 'Total']\n",
      "['2022', '2021', '2020', '2019', '2019 *', '2018', '2017', '2016', '2015', '2014', '*']\n",
      "['3', '2', '1', '4', '3 *', '2 *', '1 *', 'Los datos provinciales no coinciden a nivel nacional, ya que se rincorporó información que no contien apertuta a nivel geográfico.']\n",
      "['Buenos Aires', 'Capital Federal', 'Catamarca', 'Chaco', 'Chubut', 'Córdoba', 'Corrientes', 'Entre Ríos', 'Formosa', 'Jujuy', 'La Pampa', 'La Rioja', 'Mendoza', 'Misiones', 'Neuquén', 'Río Negro', 'Salta', 'San Juan', 'San Luis', 'Santa Cruz', 'Santa Fe', 'Santiago Del Estero', 'Tierra Del Fuego', 'Tucumán', nan]\n",
      "['Año', 'Trimestre', 'Provincia', 'Mbps (Media de bajada)', 'Unnamed: 4', 'Unnamed: 5']\n",
      "[2022, 2021, 2020, 2019, 2018, 2017, 2016, 2015, 2014]\n",
      "[3, 2, 1, 4]\n",
      "['Buenos Aires', 'Capital Federal', 'Catamarca', 'Chaco', 'Chubut', 'Córdoba', 'Corrientes', 'Entre Ríos', 'Formosa', 'Jujuy', 'La Pampa', 'La Rioja', 'Mendoza', 'Misiones', 'Neuquén', 'Río Negro', 'Salta', 'San Juan', 'San Luis', 'Santa Cruz', 'Santa Fe', 'Santiago Del Estero', 'Tierra Del Fuego', 'Tucumán']\n",
      "['Año', 'Trimestre', 'Provincia', 'HASTA 512 kbps', '+ 512 Kbps - 1 Mbps', '+ 1 Mbps - 6 Mbps', '+ 6 Mbps - 10 Mbps', '+ 10 Mbps - 20 Mbps', '+ 20 Mbps - 30 Mbps', '+ 30 Mbps', 'OTROS', 'Total']\n",
      "[2022, 2021, 2020, 2019, 2018, 2017, 2016, 2015, 2014]\n",
      "[3, 2, 1, 4]\n",
      "['Buenos Aires', 'Capital Federal', 'Catamarca', 'Chaco', 'Chubut', 'Córdoba', 'Corrientes', 'Entre Ríos', 'Formosa', 'Jujuy', 'La Pampa', 'La Rioja', 'Mendoza', 'Misiones', 'Neuquén', 'Río Negro', 'Salta', 'San Juan', 'San Luis', 'Santa Cruz', 'Santa Fe', 'Santiago Del Estero', 'Tierra Del Fuego', 'Tucumán']\n"
     ]
    }
   ],
   "source": [
    "print(list(df1p.columns))\n",
    "print(df1p[\"Año\"].unique().tolist())\n",
    "print(df1p[\"Trimestre\"].unique().tolist())\n",
    "print(df1p[\"Provincia\"].unique().tolist())\n",
    "print(list(df2p.columns))\n",
    "print(df2p[\"Año\"].unique().tolist())\n",
    "print(df2p[\"Trimestre\"].unique().tolist())\n",
    "print(df2p[\"Provincia\"].unique().tolist())\n",
    "print(list(df3p.columns))\n",
    "print(df3p[\"Año\"].unique().tolist())\n",
    "print(df3p[\"Trimestre\"].unique().tolist())\n",
    "print(df3p[\"Provincia\"].unique().tolist())\n",
    "print(list(df4p.columns))\n",
    "print(df4p[\"Año\"].unique().tolist())\n",
    "print(df4p[\"Trimestre\"].unique().tolist())\n",
    "print(df4p[\"Provincia\"].unique().tolist())\n",
    "print(list(df5p.columns))\n",
    "print(df5p[\"Año\"].unique().tolist())\n",
    "print(df5p[\"Trimestre\"].unique().tolist())\n",
    "print(df5p[\"Provincia\"].unique().tolist())"
   ]
  },
  {
   "attachments": {},
   "cell_type": "markdown",
   "metadata": {},
   "source": [
    "            verificamos que hay filas con datos incorretos, columnas de mas, algunas celdas tienen espacios en el contenido\n",
    "            se procede a hacer la limpiesa de lo señalado\n"
   ]
  },
  {
   "attachments": {},
   "cell_type": "markdown",
   "metadata": {},
   "source": [
    "#### 1.1.2 Estandarizacion de Datos"
   ]
  },
  {
   "attachments": {},
   "cell_type": "markdown",
   "metadata": {},
   "source": [
    "            Verificamos Tabla por tabla, su dtype y nullos"
   ]
  },
  {
   "cell_type": "code",
   "execution_count": 5,
   "metadata": {},
   "outputs": [
    {
     "name": "stdout",
     "output_type": "stream",
     "text": [
      "<class 'pandas.core.frame.DataFrame'>\n",
      "RangeIndex: 840 entries, 0 to 839\n",
      "Data columns (total 4 columns):\n",
      " #   Column                        Non-Null Count  Dtype  \n",
      "---  ------                        --------------  -----  \n",
      " 0   Año                           840 non-null    int64  \n",
      " 1   Trimestre                     840 non-null    int64  \n",
      " 2   Provincia                     840 non-null    object \n",
      " 3   Accesos por cada 100 hogares  840 non-null    float64\n",
      "dtypes: float64(1), int64(2), object(1)\n",
      "memory usage: 26.4+ KB\n",
      "None\n"
     ]
    }
   ],
   "source": [
    "print(df1p.info())"
   ]
  },
  {
   "cell_type": "code",
   "execution_count": 6,
   "metadata": {},
   "outputs": [
    {
     "name": "stdout",
     "output_type": "stream",
     "text": [
      "<class 'pandas.core.frame.DataFrame'>\n",
      "RangeIndex: 840 entries, 0 to 839\n",
      "Data columns (total 6 columns):\n",
      " #   Column            Non-Null Count  Dtype \n",
      "---  ------            --------------  ----- \n",
      " 0   Año               840 non-null    int64 \n",
      " 1   Trimestre         840 non-null    int64 \n",
      " 2   Provincia         840 non-null    object\n",
      " 3   Banda ancha fija  840 non-null    int64 \n",
      " 4   Dial up           838 non-null    object\n",
      " 5   Total             840 non-null    int64 \n",
      "dtypes: int64(4), object(2)\n",
      "memory usage: 39.5+ KB\n",
      "None\n"
     ]
    }
   ],
   "source": [
    "print(df2p.info())"
   ]
  },
  {
   "attachments": {},
   "cell_type": "markdown",
   "metadata": {},
   "source": [
    "            Se procede a borrar nulo y colocar 0 para trasnformalos a enteros"
   ]
  },
  {
   "cell_type": "code",
   "execution_count": 69,
   "metadata": {},
   "outputs": [],
   "source": [
    "df2p[\"Dial up\"].replace(\"\\D\",\"\",regex=True,inplace=True)\n",
    "df2p[\"Dial up\"].fillna(0,inplace=True)\n",
    "df2p[\"Dial up\"]=df2p[\"Dial up\"].astype(np.int64)"
   ]
  },
  {
   "cell_type": "code",
   "execution_count": 80,
   "metadata": {},
   "outputs": [
    {
     "name": "stdout",
     "output_type": "stream",
     "text": [
      "<class 'pandas.core.frame.DataFrame'>\n",
      "RangeIndex: 840 entries, 0 to 839\n",
      "Data columns (total 9 columns):\n",
      " #   Column        Non-Null Count  Dtype  \n",
      "---  ------        --------------  -----  \n",
      " 0   Año           840 non-null    int64  \n",
      " 1   Trimestre     840 non-null    int64  \n",
      " 2   Provincia     840 non-null    object \n",
      " 3   ADSL          840 non-null    float64\n",
      " 4   Cablemodem    840 non-null    float64\n",
      " 5   Fibra óptica  840 non-null    float64\n",
      " 6   Wireless      840 non-null    float64\n",
      " 7   Otros         840 non-null    float64\n",
      " 8   Total         840 non-null    float64\n",
      "dtypes: float64(6), int64(2), object(1)\n",
      "memory usage: 59.2+ KB\n",
      "None\n"
     ]
    }
   ],
   "source": [
    "print(df3p.info())"
   ]
  },
  {
   "attachments": {},
   "cell_type": "markdown",
   "metadata": {},
   "source": [
    "            Igual, se borran datos sobrantes y se rellena con 0\n"
   ]
  },
  {
   "cell_type": "code",
   "execution_count": 70,
   "metadata": {},
   "outputs": [],
   "source": [
    "df3p.Año.replace(\"\\D\",\"\",regex=True,inplace=True)\n",
    "df3p.Año.replace(\"\",0,inplace=True)\n",
    "df3p.Año=df3p.Año.astype(np.int64)\n",
    "df3p.Trimestre.replace(\"\\D\",\"\",regex=True,inplace=True)\n",
    "df3p.Trimestre.replace(\"\",0,inplace=True)\n",
    "df3p.Trimestre=df3p.Trimestre.astype(np.int64)\n",
    "df3p.drop(840,inplace=True)"
   ]
  },
  {
   "cell_type": "code",
   "execution_count": 162,
   "metadata": {},
   "outputs": [
    {
     "name": "stdout",
     "output_type": "stream",
     "text": [
      "<class 'pandas.core.frame.DataFrame'>\n",
      "RangeIndex: 840 entries, 0 to 839\n",
      "Data columns (total 6 columns):\n",
      " #   Column                  Non-Null Count  Dtype  \n",
      "---  ------                  --------------  -----  \n",
      " 0   Año                     840 non-null    int64  \n",
      " 1   Trimestre               840 non-null    int64  \n",
      " 2   Provincia               840 non-null    object \n",
      " 3   Mbps (Media de bajada)  840 non-null    int64  \n",
      " 4   Unnamed: 4              0 non-null      float64\n",
      " 5   Unnamed: 5              0 non-null      float64\n",
      "dtypes: float64(2), int64(3), object(1)\n",
      "memory usage: 39.5+ KB\n",
      "None\n"
     ]
    }
   ],
   "source": [
    "print(df4p.info())"
   ]
  },
  {
   "attachments": {},
   "cell_type": "markdown",
   "metadata": {},
   "source": [
    "            se extrae 3 columnas de la tabla"
   ]
  },
  {
   "cell_type": "code",
   "execution_count": 71,
   "metadata": {},
   "outputs": [],
   "source": [
    "df4p=df4p[[\"Año\",\"Trimestre\",\"Provincia\",\"Mbps (Media de bajada)\"]]"
   ]
  },
  {
   "cell_type": "code",
   "execution_count": 72,
   "metadata": {},
   "outputs": [
    {
     "name": "stdout",
     "output_type": "stream",
     "text": [
      "<class 'pandas.core.frame.DataFrame'>\n",
      "RangeIndex: 840 entries, 0 to 839\n",
      "Data columns (total 12 columns):\n",
      " #   Column               Non-Null Count  Dtype  \n",
      "---  ------               --------------  -----  \n",
      " 0   Año                  840 non-null    int64  \n",
      " 1   Trimestre            840 non-null    int64  \n",
      " 2   Provincia            840 non-null    object \n",
      " 3   HASTA 512 kbps       840 non-null    int64  \n",
      " 4   + 512 Kbps - 1 Mbps  840 non-null    int64  \n",
      " 5   + 1 Mbps - 6 Mbps    840 non-null    int64  \n",
      " 6   + 6 Mbps - 10 Mbps   840 non-null    int64  \n",
      " 7   + 10 Mbps - 20 Mbps  840 non-null    int64  \n",
      " 8   + 20 Mbps - 30 Mbps  840 non-null    int64  \n",
      " 9   + 30 Mbps            840 non-null    int64  \n",
      " 10  OTROS                834 non-null    float64\n",
      " 11  Total                840 non-null    int64  \n",
      "dtypes: float64(1), int64(10), object(1)\n",
      "memory usage: 78.9+ KB\n",
      "None\n"
     ]
    }
   ],
   "source": [
    "print(df5p.info())\n"
   ]
  },
  {
   "cell_type": "code",
   "execution_count": 73,
   "metadata": {},
   "outputs": [],
   "source": [
    "df5p.fillna(0,inplace=True)\n",
    "df5p.OTROS=df5p.OTROS.astype(np.int64)\n",
    "df5p=df5p.drop(columns=\"Total\",axis=1)"
   ]
  },
  {
   "attachments": {},
   "cell_type": "markdown",
   "metadata": {},
   "source": [
    "            se procede a unir las tablas a usar"
   ]
  },
  {
   "cell_type": "code",
   "execution_count": 74,
   "metadata": {},
   "outputs": [],
   "source": [
    "dft1=df1p.merge(df2p).merge(df3p).merge(df4p).merge(df5p)\n"
   ]
  },
  {
   "cell_type": "code",
   "execution_count": 75,
   "metadata": {},
   "outputs": [
    {
     "name": "stdout",
     "output_type": "stream",
     "text": [
      "<class 'pandas.core.frame.DataFrame'>\n",
      "RangeIndex: 840 entries, 0 to 839\n",
      "Data columns (total 21 columns):\n",
      " #   Column                        Non-Null Count  Dtype  \n",
      "---  ------                        --------------  -----  \n",
      " 0   Año                           840 non-null    int64  \n",
      " 1   Trimestre                     840 non-null    int64  \n",
      " 2   Provincia                     840 non-null    object \n",
      " 3   Accesos por cada 100 hogares  840 non-null    float64\n",
      " 4   Banda ancha fija              840 non-null    int64  \n",
      " 5   Dial up                       840 non-null    int64  \n",
      " 6   Total                         840 non-null    int64  \n",
      " 7   ADSL                          840 non-null    float64\n",
      " 8   Cablemodem                    840 non-null    float64\n",
      " 9   Fibra óptica                  840 non-null    float64\n",
      " 10  Wireless                      840 non-null    float64\n",
      " 11  Otros                         840 non-null    float64\n",
      " 12  Mbps (Media de bajada)        840 non-null    int64  \n",
      " 13  HASTA 512 kbps                840 non-null    int64  \n",
      " 14  + 512 Kbps - 1 Mbps           840 non-null    int64  \n",
      " 15  + 1 Mbps - 6 Mbps             840 non-null    int64  \n",
      " 16  + 6 Mbps - 10 Mbps            840 non-null    int64  \n",
      " 17  + 10 Mbps - 20 Mbps           840 non-null    int64  \n",
      " 18  + 20 Mbps - 30 Mbps           840 non-null    int64  \n",
      " 19  + 30 Mbps                     840 non-null    int64  \n",
      " 20  OTROS                         840 non-null    int64  \n",
      "dtypes: float64(6), int64(14), object(1)\n",
      "memory usage: 137.9+ KB\n"
     ]
    }
   ],
   "source": [
    "dft1.info()"
   ]
  },
  {
   "attachments": {},
   "cell_type": "markdown",
   "metadata": {},
   "source": [
    "        Se estandariza todos los titulos"
   ]
  },
  {
   "cell_type": "code",
   "execution_count": 76,
   "metadata": {},
   "outputs": [],
   "source": [
    "dft1=dft1.rename(columns={\"Trimestre\":\"Trim\",\"Provincia\":\"Prov\",\"Accesos por cada 100 hogares\":\"Accesx100hog\",\n",
    "                     \"Banda ancha fija\":\"BandaAncha\",\"Dial up\":\"BandaAngos\",\"Fibra óptica\":\"FibraOpt\",\"Otros\":\"Otros_Tec\",\n",
    "                     \"Mbps (Media de bajada)\":\"MediaMbps\",\"HASTA 512 kbps\":\"AR1_0.51Mbs\",\n",
    "                     \"+ 512 Kbps - 1 Mbps\":\"AR2_0.75Mbs\",\"+ 1 Mbps - 6 Mbps\":\"AR3_3.5Mbs\",\n",
    "                     \"+ 6 Mbps - 10 Mbps\":\"AR4_8Mbs\",\"+ 10 Mbps - 20 Mbps\":\"AR5_15Mbs\",\n",
    "                     \"+ 20 Mbps - 30 Mbps\":\"AR6_25Mbs\",\"+ 30 Mbps\":\"AR7_+30Mbs\",\"OTROS\":\"Otros_Mbs\"})"
   ]
  },
  {
   "cell_type": "code",
   "execution_count": 77,
   "metadata": {},
   "outputs": [
    {
     "data": {
      "text/html": [
       "<div>\n",
       "<style scoped>\n",
       "    .dataframe tbody tr th:only-of-type {\n",
       "        vertical-align: middle;\n",
       "    }\n",
       "\n",
       "    .dataframe tbody tr th {\n",
       "        vertical-align: top;\n",
       "    }\n",
       "\n",
       "    .dataframe thead th {\n",
       "        text-align: right;\n",
       "    }\n",
       "</style>\n",
       "<table border=\"1\" class=\"dataframe\">\n",
       "  <thead>\n",
       "    <tr style=\"text-align: right;\">\n",
       "      <th></th>\n",
       "      <th>Año</th>\n",
       "      <th>Trim</th>\n",
       "      <th>Prov</th>\n",
       "      <th>Accesx100hog</th>\n",
       "      <th>BandaAncha</th>\n",
       "      <th>BandaAngos</th>\n",
       "      <th>Total</th>\n",
       "      <th>ADSL</th>\n",
       "      <th>Cablemodem</th>\n",
       "      <th>FibraOpt</th>\n",
       "      <th>...</th>\n",
       "      <th>Otros_Tec</th>\n",
       "      <th>MediaMbps</th>\n",
       "      <th>AR1_0.51Mbs</th>\n",
       "      <th>AR2_0.75Mbs</th>\n",
       "      <th>AR3_3.5Mbs</th>\n",
       "      <th>AR4_8Mbs</th>\n",
       "      <th>AR5_15Mbs</th>\n",
       "      <th>AR6_25Mbs</th>\n",
       "      <th>AR7_+30Mbs</th>\n",
       "      <th>Otros_Mbs</th>\n",
       "    </tr>\n",
       "  </thead>\n",
       "  <tbody>\n",
       "    <tr>\n",
       "      <th>0</th>\n",
       "      <td>2022</td>\n",
       "      <td>3</td>\n",
       "      <td>Buenos Aires</td>\n",
       "      <td>78.11</td>\n",
       "      <td>4715469</td>\n",
       "      <td>6199</td>\n",
       "      <td>4721668</td>\n",
       "      <td>339648.0</td>\n",
       "      <td>2748325.0</td>\n",
       "      <td>1436433.0</td>\n",
       "      <td>...</td>\n",
       "      <td>70416.0</td>\n",
       "      <td>70</td>\n",
       "      <td>29985</td>\n",
       "      <td>27709</td>\n",
       "      <td>290315</td>\n",
       "      <td>297915</td>\n",
       "      <td>267044</td>\n",
       "      <td>124190</td>\n",
       "      <td>3618689</td>\n",
       "      <td>65821</td>\n",
       "    </tr>\n",
       "    <tr>\n",
       "      <th>1</th>\n",
       "      <td>2022</td>\n",
       "      <td>3</td>\n",
       "      <td>Capital Federal</td>\n",
       "      <td>122.28</td>\n",
       "      <td>1545534</td>\n",
       "      <td>2145</td>\n",
       "      <td>1547679</td>\n",
       "      <td>140791.0</td>\n",
       "      <td>1240125.0</td>\n",
       "      <td>129218.0</td>\n",
       "      <td>...</td>\n",
       "      <td>31787.0</td>\n",
       "      <td>101</td>\n",
       "      <td>517</td>\n",
       "      <td>5742</td>\n",
       "      <td>34371</td>\n",
       "      <td>67829</td>\n",
       "      <td>51946</td>\n",
       "      <td>28692</td>\n",
       "      <td>1253105</td>\n",
       "      <td>105477</td>\n",
       "    </tr>\n",
       "    <tr>\n",
       "      <th>2</th>\n",
       "      <td>2022</td>\n",
       "      <td>3</td>\n",
       "      <td>Catamarca</td>\n",
       "      <td>65.33</td>\n",
       "      <td>70292</td>\n",
       "      <td>1</td>\n",
       "      <td>70293</td>\n",
       "      <td>10010.0</td>\n",
       "      <td>10495.0</td>\n",
       "      <td>46224.0</td>\n",
       "      <td>...</td>\n",
       "      <td>2235.0</td>\n",
       "      <td>61</td>\n",
       "      <td>71</td>\n",
       "      <td>384</td>\n",
       "      <td>3107</td>\n",
       "      <td>5389</td>\n",
       "      <td>5099</td>\n",
       "      <td>3737</td>\n",
       "      <td>50298</td>\n",
       "      <td>2208</td>\n",
       "    </tr>\n",
       "    <tr>\n",
       "      <th>3</th>\n",
       "      <td>2022</td>\n",
       "      <td>3</td>\n",
       "      <td>Chaco</td>\n",
       "      <td>43.86</td>\n",
       "      <td>144141</td>\n",
       "      <td>5</td>\n",
       "      <td>144146</td>\n",
       "      <td>27164.0</td>\n",
       "      <td>61800.0</td>\n",
       "      <td>44645.0</td>\n",
       "      <td>...</td>\n",
       "      <td>2359.0</td>\n",
       "      <td>53</td>\n",
       "      <td>461</td>\n",
       "      <td>987</td>\n",
       "      <td>16782</td>\n",
       "      <td>18938</td>\n",
       "      <td>8049</td>\n",
       "      <td>15828</td>\n",
       "      <td>79390</td>\n",
       "      <td>3711</td>\n",
       "    </tr>\n",
       "  </tbody>\n",
       "</table>\n",
       "<p>4 rows × 21 columns</p>\n",
       "</div>"
      ],
      "text/plain": [
       "    Año  Trim             Prov  Accesx100hog  BandaAncha  BandaAngos    Total   \n",
       "0  2022     3     Buenos Aires         78.11     4715469        6199  4721668  \\\n",
       "1  2022     3  Capital Federal        122.28     1545534        2145  1547679   \n",
       "2  2022     3        Catamarca         65.33       70292           1    70293   \n",
       "3  2022     3            Chaco         43.86      144141           5   144146   \n",
       "\n",
       "       ADSL  Cablemodem   FibraOpt  ...  Otros_Tec  MediaMbps  AR1_0.51Mbs   \n",
       "0  339648.0   2748325.0  1436433.0  ...    70416.0         70        29985  \\\n",
       "1  140791.0   1240125.0   129218.0  ...    31787.0        101          517   \n",
       "2   10010.0     10495.0    46224.0  ...     2235.0         61           71   \n",
       "3   27164.0     61800.0    44645.0  ...     2359.0         53          461   \n",
       "\n",
       "   AR2_0.75Mbs  AR3_3.5Mbs  AR4_8Mbs  AR5_15Mbs  AR6_25Mbs  AR7_+30Mbs   \n",
       "0        27709      290315    297915     267044     124190     3618689  \\\n",
       "1         5742       34371     67829      51946      28692     1253105   \n",
       "2          384        3107      5389       5099       3737       50298   \n",
       "3          987       16782     18938       8049      15828       79390   \n",
       "\n",
       "   Otros_Mbs  \n",
       "0      65821  \n",
       "1     105477  \n",
       "2       2208  \n",
       "3       3711  \n",
       "\n",
       "[4 rows x 21 columns]"
      ]
     },
     "execution_count": 77,
     "metadata": {},
     "output_type": "execute_result"
    }
   ],
   "source": [
    "dft1.head(4)"
   ]
  },
  {
   "attachments": {},
   "cell_type": "markdown",
   "metadata": {},
   "source": [
    "            Se exporta"
   ]
  },
  {
   "cell_type": "code",
   "execution_count": 101,
   "metadata": {},
   "outputs": [],
   "source": [
    "dft1.to_csv(\"Data01.csv\")"
   ]
  },
  {
   "attachments": {},
   "cell_type": "markdown",
   "metadata": {},
   "source": [
    "##  2. Datasets de nivel habitantes"
   ]
  },
  {
   "cell_type": "code",
   "execution_count": 81,
   "metadata": {},
   "outputs": [],
   "source": [
    "df6p=pd.read_csv(\"./DATA/1.1_Penetracion_Internet_Per.csv\",delimiter=',', quotechar='\"', decimal=\",\", thousands=\".\")\n",
    "df10p=pd.read_csv(\"./DATA/6_Ingresos_Internet_Per.csv\",delimiter=',', quotechar='\"', decimal=\",\", thousands=\".\")"
   ]
  },
  {
   "attachments": {},
   "cell_type": "markdown",
   "metadata": {},
   "source": [
    "### 2.1 EDA-DF1P"
   ]
  },
  {
   "attachments": {},
   "cell_type": "markdown",
   "metadata": {},
   "source": [
    "#### 2.1.1 VALORES UNICOS"
   ]
  },
  {
   "cell_type": "code",
   "execution_count": 82,
   "metadata": {},
   "outputs": [
    {
     "name": "stdout",
     "output_type": "stream",
     "text": [
      "['Año', 'Trimestre', 'Accesos por cada 100 hogares', 'Accesos por cada 100 hab', 'Periodo']\n",
      "[2022, 2021, 2020, 2019, 2018, 2017, 2016, 2015, 2014]\n",
      "[3, 2, 1, 4]\n",
      "['Año', 'Trimestre', 'Ingresos (miles de pesos)', 'Periodo']\n",
      "[2022, 2021, 2020, 2019, 2018, 2017, 2016, 2015, 2014]\n",
      "[3, 2, 1, 4]\n"
     ]
    }
   ],
   "source": [
    "print(list(df6p.columns))\n",
    "print(df6p[\"Año\"].unique().tolist())\n",
    "print(df6p[\"Trimestre\"].unique().tolist())\n",
    "print(list(df10p.columns))\n",
    "print(df10p[\"Año\"].unique().tolist())\n",
    "print(df10p[\"Trimestre\"].unique().tolist())"
   ]
  },
  {
   "attachments": {},
   "cell_type": "markdown",
   "metadata": {},
   "source": [
    "#### 2.1.2 Estandarizacion de Datos"
   ]
  },
  {
   "attachments": {},
   "cell_type": "markdown",
   "metadata": {},
   "source": [
    "    Verificamos Tabla por tabla, su dtype y nullos"
   ]
  },
  {
   "cell_type": "code",
   "execution_count": 55,
   "metadata": {},
   "outputs": [
    {
     "name": "stdout",
     "output_type": "stream",
     "text": [
      "<class 'pandas.core.frame.DataFrame'>\n",
      "RangeIndex: 35 entries, 0 to 34\n",
      "Data columns (total 5 columns):\n",
      " #   Column                        Non-Null Count  Dtype  \n",
      "---  ------                        --------------  -----  \n",
      " 0   Año                           35 non-null     int64  \n",
      " 1   Trimestre                     35 non-null     int64  \n",
      " 2   Accesos por cada 100 hogares  35 non-null     float64\n",
      " 3   Accesos por cada 100 hab      35 non-null     float64\n",
      " 4   Periodo                       35 non-null     object \n",
      "dtypes: float64(2), int64(2), object(1)\n",
      "memory usage: 1.5+ KB\n",
      "None\n"
     ]
    }
   ],
   "source": [
    "print(df6p.info())"
   ]
  },
  {
   "cell_type": "code",
   "execution_count": 57,
   "metadata": {},
   "outputs": [
    {
     "name": "stdout",
     "output_type": "stream",
     "text": [
      "<class 'pandas.core.frame.DataFrame'>\n",
      "RangeIndex: 35 entries, 0 to 34\n",
      "Data columns (total 4 columns):\n",
      " #   Column                     Non-Null Count  Dtype \n",
      "---  ------                     --------------  ----- \n",
      " 0   Año                        35 non-null     int64 \n",
      " 1   Trimestre                  35 non-null     int64 \n",
      " 2   Ingresos (miles de pesos)  35 non-null     int64 \n",
      " 3   Periodo                    35 non-null     object\n",
      "dtypes: int64(3), object(1)\n",
      "memory usage: 1.2+ KB\n",
      "None\n"
     ]
    }
   ],
   "source": [
    "print(df10p.info())"
   ]
  },
  {
   "cell_type": "code",
   "execution_count": 83,
   "metadata": {},
   "outputs": [],
   "source": [
    "dft2=df6p.merge(df10p)"
   ]
  },
  {
   "cell_type": "code",
   "execution_count": 59,
   "metadata": {},
   "outputs": [
    {
     "name": "stdout",
     "output_type": "stream",
     "text": [
      "<class 'pandas.core.frame.DataFrame'>\n",
      "RangeIndex: 35 entries, 0 to 34\n",
      "Data columns (total 6 columns):\n",
      " #   Column                        Non-Null Count  Dtype  \n",
      "---  ------                        --------------  -----  \n",
      " 0   Año                           35 non-null     int64  \n",
      " 1   Trimestre                     35 non-null     int64  \n",
      " 2   Accesos por cada 100 hogares  35 non-null     float64\n",
      " 3   Accesos por cada 100 hab      35 non-null     float64\n",
      " 4   Periodo                       35 non-null     object \n",
      " 5   Ingresos (miles de pesos)     35 non-null     int64  \n",
      "dtypes: float64(2), int64(3), object(1)\n",
      "memory usage: 1.8+ KB\n"
     ]
    }
   ],
   "source": [
    "dft2.info()"
   ]
  },
  {
   "attachments": {},
   "cell_type": "markdown",
   "metadata": {},
   "source": [
    "            Se procede a ajustar los titulos y astype"
   ]
  },
  {
   "cell_type": "code",
   "execution_count": 84,
   "metadata": {},
   "outputs": [],
   "source": [
    "dft2=dft2.rename(columns={\"Accesos por cada 100 hogares\":\"Accesx100hog\"})\n",
    "dft2=dft2.rename(columns={\"Accesos por cada 100 hab\":\"Accesx100hab\"})\n",
    "dft2=dft2.rename(columns={\"Ingresos (miles de pesos)\":\"Ingresos($)\"})\n",
    "dft2[\"Ingresos($)\"]=dft2[\"Ingresos($)\"].astype(np.int64)\n",
    "dft2=dft2.drop(columns=\"Periodo\",axis=1)\n"
   ]
  },
  {
   "cell_type": "code",
   "execution_count": 85,
   "metadata": {},
   "outputs": [
    {
     "data": {
      "text/html": [
       "<div>\n",
       "<style scoped>\n",
       "    .dataframe tbody tr th:only-of-type {\n",
       "        vertical-align: middle;\n",
       "    }\n",
       "\n",
       "    .dataframe tbody tr th {\n",
       "        vertical-align: top;\n",
       "    }\n",
       "\n",
       "    .dataframe thead th {\n",
       "        text-align: right;\n",
       "    }\n",
       "</style>\n",
       "<table border=\"1\" class=\"dataframe\">\n",
       "  <thead>\n",
       "    <tr style=\"text-align: right;\">\n",
       "      <th></th>\n",
       "      <th>Año</th>\n",
       "      <th>Trimestre</th>\n",
       "      <th>Accesx100hog</th>\n",
       "      <th>Accesx100hab</th>\n",
       "      <th>Ingresos($)</th>\n",
       "    </tr>\n",
       "  </thead>\n",
       "  <tbody>\n",
       "    <tr>\n",
       "      <th>0</th>\n",
       "      <td>2022</td>\n",
       "      <td>3</td>\n",
       "      <td>76.64</td>\n",
       "      <td>23.95</td>\n",
       "      <td>67055930</td>\n",
       "    </tr>\n",
       "    <tr>\n",
       "      <th>1</th>\n",
       "      <td>2022</td>\n",
       "      <td>2</td>\n",
       "      <td>75.97</td>\n",
       "      <td>23.72</td>\n",
       "      <td>60335724</td>\n",
       "    </tr>\n",
       "    <tr>\n",
       "      <th>2</th>\n",
       "      <td>2022</td>\n",
       "      <td>1</td>\n",
       "      <td>73.88</td>\n",
       "      <td>23.05</td>\n",
       "      <td>55589997</td>\n",
       "    </tr>\n",
       "    <tr>\n",
       "      <th>3</th>\n",
       "      <td>2021</td>\n",
       "      <td>4</td>\n",
       "      <td>73.18</td>\n",
       "      <td>22.81</td>\n",
       "      <td>45467887</td>\n",
       "    </tr>\n",
       "  </tbody>\n",
       "</table>\n",
       "</div>"
      ],
      "text/plain": [
       "    Año  Trimestre  Accesx100hog  Accesx100hab  Ingresos($)\n",
       "0  2022          3         76.64         23.95     67055930\n",
       "1  2022          2         75.97         23.72     60335724\n",
       "2  2022          1         73.88         23.05     55589997\n",
       "3  2021          4         73.18         22.81     45467887"
      ]
     },
     "execution_count": 85,
     "metadata": {},
     "output_type": "execute_result"
    }
   ],
   "source": [
    "dft2.head(4)"
   ]
  },
  {
   "cell_type": "code",
   "execution_count": 86,
   "metadata": {},
   "outputs": [],
   "source": [
    "dft2.to_csv(\"Data02.csv\")"
   ]
  }
 ],
 "metadata": {
  "kernelspec": {
   "display_name": "entorno1-VmZsC4eA",
   "language": "python",
   "name": "python3"
  },
  "language_info": {
   "codemirror_mode": {
    "name": "ipython",
    "version": 3
   },
   "file_extension": ".py",
   "mimetype": "text/x-python",
   "name": "python",
   "nbconvert_exporter": "python",
   "pygments_lexer": "ipython3",
   "version": "3.10.11"
  },
  "orig_nbformat": 4
 },
 "nbformat": 4,
 "nbformat_minor": 2
}
